{
 "cells": [
  {
   "cell_type": "markdown",
   "metadata": {},
   "source": [
    "* Rebuilding lost Jupyter version of final project"
   ]
  },
  {
   "cell_type": "markdown",
   "metadata": {},
   "source": [
    "# Assignment 04\n",
    "\n",
    "# Project Proposal\n",
    "\n",
    "![http://www.pratt.edu/tiny_mce/plugins/imagemanager/files/Light_brown_blue22.jpg](http://www.pratt.edu/tiny_mce/plugins/imagemanager/files/Light_brown_blue22.jpg)"
   ]
  },
  {
   "cell_type": "markdown",
   "metadata": {},
   "source": [
    "An NGO named ACLED (Armed Conflict Location & Event Data Project) has a crew of people who scan news stories for 'violent events', which they enter into a database. Afghanistan is one of the countries they cover. They log over 10,000 events a year, and do a respectable job of normalizing them, even to the extent of geocoding them with coordinates and standardized place names. They refresh their public facing database once a week. You can feed dates, country names and event types to a 'data tool' of theirs and get back a .CSV of the results.\n",
    "\n",
    "I want to download their data, process it into a database of my own, and link that database to a graph and a map. Online users would be able to specify the geography and time period that interested them and get back a graph and map."
   ]
  },
  {
   "cell_type": "code",
   "execution_count": 1,
   "metadata": {},
   "outputs": [
    {
     "name": "stdout",
     "output_type": "stream",
     "text": [
      "Hello World\n"
     ]
    }
   ],
   "source": [
    "print('Hello World') "
   ]
  }
 ],
 "metadata": {
  "kernelspec": {
   "display_name": "Python 3",
   "language": "python",
   "name": "python3"
  },
  "language_info": {
   "codemirror_mode": {
    "name": "ipython",
    "version": 3
   },
   "file_extension": ".py",
   "mimetype": "text/x-python",
   "name": "python",
   "nbconvert_exporter": "python",
   "pygments_lexer": "ipython3",
   "version": "3.8.2"
  }
 },
 "nbformat": 4,
 "nbformat_minor": 4
}
